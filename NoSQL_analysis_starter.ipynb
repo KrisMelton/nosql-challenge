{
 "cells": [
  {
   "cell_type": "markdown",
   "id": "9a57c4c6",
   "metadata": {},
   "source": [
    "# Eat Safe, Love"
   ]
  },
  {
   "cell_type": "markdown",
   "id": "064ef857",
   "metadata": {},
   "source": [
    "## Notebook Set Up"
   ]
  },
  {
   "cell_type": "code",
   "execution_count": 1,
   "id": "3ecdd008",
   "metadata": {},
   "outputs": [],
   "source": [
    "from pymongo import MongoClient\n",
    "import pandas as pd\n",
    "from pprint import pprint"
   ]
  },
  {
   "cell_type": "code",
   "execution_count": 2,
   "id": "59390c4a",
   "metadata": {},
   "outputs": [],
   "source": [
    "# Create an instance of MongoClient\n",
    "mongo = MongoClient(port=27017)"
   ]
  },
  {
   "cell_type": "code",
   "execution_count": 3,
   "id": "71e373c1",
   "metadata": {},
   "outputs": [],
   "source": [
    "# assign the uk_food database to a variable name\n",
    "db = mongo['uk_food']"
   ]
  },
  {
   "cell_type": "code",
   "execution_count": 4,
   "id": "18ab463c",
   "metadata": {},
   "outputs": [
    {
     "name": "stdout",
     "output_type": "stream",
     "text": [
      "['establishments']\n"
     ]
    }
   ],
   "source": [
    "# review the collections in our database\n",
    "print(db.list_collection_names())"
   ]
  },
  {
   "cell_type": "code",
   "execution_count": 5,
   "id": "11c9f11b",
   "metadata": {},
   "outputs": [],
   "source": [
    "# assign the collection to a variable\n",
    "establishments = db['establishments']"
   ]
  },
  {
   "cell_type": "markdown",
   "id": "d5671434",
   "metadata": {},
   "source": [
    "## Part 3: Exploratory Analysis\n",
    "Unless otherwise stated, for each question: \n",
    "* Use `count_documents` to display the number of documents contained in the result.\n",
    "* Display the first document in the results using `pprint`.\n",
    "* Convert the result to a Pandas DataFrame, print the number of rows in the DataFrame, and display the first 10 rows."
   ]
  },
  {
   "cell_type": "markdown",
   "id": "314bd884",
   "metadata": {},
   "source": [
    "### 1. Which establishments have a hygiene score equal to 20?"
   ]
  },
  {
   "cell_type": "code",
   "execution_count": 6,
   "id": "c2da7648",
   "metadata": {},
   "outputs": [
    {
     "name": "stdout",
     "output_type": "stream",
     "text": [
      "Number of documents with a hygiene score of 20: 41\n",
      "{'AddressLine1': '5-6 Southfields Road',\n",
      " 'AddressLine2': 'Eastbourne',\n",
      " 'AddressLine3': 'East Sussex',\n",
      " 'AddressLine4': '',\n",
      " 'BusinessName': 'The Chase Rest Home',\n",
      " 'BusinessType': 'Caring Premises',\n",
      " 'BusinessTypeID': 5,\n",
      " 'ChangesByServerID': 0,\n",
      " 'Distance': 4613.888288172291,\n",
      " 'FHRSID': 110681,\n",
      " 'LocalAuthorityBusinessID': '4029',\n",
      " 'LocalAuthorityCode': '102',\n",
      " 'LocalAuthorityEmailAddress': 'Customerfirst@eastbourne.gov.uk',\n",
      " 'LocalAuthorityName': 'Eastbourne',\n",
      " 'LocalAuthorityWebSite': 'http://www.eastbourne.gov.uk/foodratings',\n",
      " 'NewRatingPending': False,\n",
      " 'Phone': '',\n",
      " 'PostCode': 'BN21 1BU',\n",
      " 'RatingDate': '2021-09-23T00:00:00',\n",
      " 'RatingKey': 'fhrs_0_en-gb',\n",
      " 'RatingValue': 0.0,\n",
      " 'RightToReply': '',\n",
      " 'SchemeType': 'FHRS',\n",
      " '_id': ObjectId('665fc99102c066c6e2c5d8d4'),\n",
      " 'geocode': {'latitude': 50.769705, 'longitude': 0.27694},\n",
      " 'latitude': None,\n",
      " 'links': [{'href': 'https://api.ratings.food.gov.uk/establishments/110681',\n",
      "            'rel': 'self'}],\n",
      " 'longitude': None,\n",
      " 'meta': {'dataSource': None,\n",
      "          'extractDate': '0001-01-01T00:00:00',\n",
      "          'itemCount': 0,\n",
      "          'pageNumber': 0,\n",
      "          'pageSize': 0,\n",
      "          'returncode': None,\n",
      "          'totalCount': 0,\n",
      "          'totalPages': 0},\n",
      " 'scores': {'ConfidenceInManagement': 20, 'Hygiene': 20, 'Structural': 20}}\n"
     ]
    }
   ],
   "source": [
    "# Find the establishments with a hygiene score of 20\n",
    "query = {'scores.Hygiene': 20}\n",
    "\n",
    "# Use count_documents to display the number of documents in the result\n",
    "num_documents = establishments.count_documents(query)\n",
    "print(f\"Number of documents with a hygiene score of 20: {num_documents}\")\n",
    "\n",
    "\n",
    "# Display the first document in the results using pprint\n",
    "first_document = establishments.find_one(query)\n",
    "pprint(first_document)"
   ]
  },
  {
   "cell_type": "code",
   "execution_count": null,
   "id": "086bc62c",
   "metadata": {},
   "outputs": [],
   "source": []
  },
  {
   "cell_type": "code",
   "execution_count": 8,
   "id": "a6e5cece",
   "metadata": {},
   "outputs": [
    {
     "name": "stdout",
     "output_type": "stream",
     "text": [
      "Number of rows in DataFrame: 41\n",
      "                        _id   FHRSID  ChangesByServerID  \\\n",
      "0  665fc99102c066c6e2c5d8d4   110681                  0   \n",
      "1  665fc99102c066c6e2c5dc54   612039                  0   \n",
      "2  665fc99102c066c6e2c5df60   730933                  0   \n",
      "3  665fc99102c066c6e2c5e14d   172735                  0   \n",
      "4  665fc99102c066c6e2c5e15c   172953                  0   \n",
      "5  665fc99102c066c6e2c5eafb   512854                  0   \n",
      "6  665fc99102c066c6e2c5ed1c  1537089                  0   \n",
      "7  665fc99202c066c6e2c60248   155648                  0   \n",
      "8  665fc99202c066c6e2c6068c  1012883                  0   \n",
      "9  665fc99202c066c6e2c60e9c   644109                  0   \n",
      "\n",
      "  LocalAuthorityBusinessID               BusinessName  \\\n",
      "0                     4029        The Chase Rest Home   \n",
      "1                1970/FOOD                 Brenalwood   \n",
      "2                1698/FOOD              Melrose Hotel   \n",
      "3             PI/000023858              Seaford Pizza   \n",
      "4             PI/000024532              Golden Palace   \n",
      "5            12/00816/BUTH           Ashby's Butchers   \n",
      "6          22/00224/RESTUN  South Sea Express Cuisine   \n",
      "7              EH/00006058              Golden Palace   \n",
      "8         17/00110/MIXED/S             The Tulip Tree   \n",
      "9                    41811                      F & S   \n",
      "\n",
      "                        BusinessType  BusinessTypeID           AddressLine1  \\\n",
      "0                    Caring Premises               5   5-6 Southfields Road   \n",
      "1                    Caring Premises               5              Hall Lane   \n",
      "2  Hotel/bed & breakfast/guest house            7842  53 Marine Parade East   \n",
      "3             Takeaway/sandwich shop            7844          4 High Street   \n",
      "4            Restaurant/Cafe/Canteen               1         5 South Street   \n",
      "5                  Retailers - other            4613   777 Southchurch Road   \n",
      "6            Restaurant/Cafe/Canteen               1    33 Alexandra Street   \n",
      "7             Takeaway/sandwich shop            7844          7 London Road   \n",
      "8            Restaurant/Cafe/Canteen               1          3 The Village   \n",
      "9                  Retailers - other            4613                          \n",
      "\n",
      "         AddressLine2 AddressLine3  ...  \\\n",
      "0          Eastbourne  East Sussex  ...   \n",
      "1  Walton-on-the-Naze        Essex  ...   \n",
      "2      Clacton On Sea        Essex  ...   \n",
      "3             Seaford  East Sussex  ...   \n",
      "4             Seaford  East Sussex  ...   \n",
      "5     Southend-On-Sea        Essex  ...   \n",
      "6     Southend-on-sea        Essex  ...   \n",
      "7            Rayleigh        Essex  ...   \n",
      "8       Chiddingstone         KENT  ...   \n",
      "9      81 Southernhay     Basildon  ...   \n",
      "\n",
      "                                              scores SchemeType  \\\n",
      "0  {'Hygiene': 20, 'Structural': 20, 'ConfidenceI...       FHRS   \n",
      "1  {'Hygiene': 20, 'Structural': 15, 'ConfidenceI...       FHRS   \n",
      "2  {'Hygiene': 20, 'Structural': 20, 'ConfidenceI...       FHRS   \n",
      "3  {'Hygiene': 20, 'Structural': 10, 'ConfidenceI...       FHRS   \n",
      "4  {'Hygiene': 20, 'Structural': 10, 'ConfidenceI...       FHRS   \n",
      "5  {'Hygiene': 20, 'Structural': 20, 'ConfidenceI...       FHRS   \n",
      "6  {'Hygiene': 20, 'Structural': 20, 'ConfidenceI...       FHRS   \n",
      "7  {'Hygiene': 20, 'Structural': 15, 'ConfidenceI...       FHRS   \n",
      "8  {'Hygiene': 20, 'Structural': 5, 'ConfidenceIn...       FHRS   \n",
      "9  {'Hygiene': 20, 'Structural': 20, 'ConfidenceI...       FHRS   \n",
      "\n",
      "                                             geocode  RightToReply  \\\n",
      "0      {'longitude': 0.27694, 'latitude': 50.769705}                 \n",
      "1     {'longitude': 1.278721, 'latitude': 51.857536}                 \n",
      "2      {'longitude': 1.15927, 'latitude': 51.789429}                 \n",
      "3      {'longitude': 0.10202, 'latitude': 50.770885}                 \n",
      "4     {'longitude': 0.101446, 'latitude': 50.770724}                 \n",
      "5     {'longitude': 0.736349, 'latitude': 51.541448}                 \n",
      "6   {'longitude': 0.7121671, 'latitude': 51.5350065}                 \n",
      "7     {'longitude': 0.602364, 'latitude': 51.591515}                 \n",
      "8  {'longitude': 0.146449998021126, 'latitude': 5...                 \n",
      "9      {'longitude': 0.462307, 'latitude': 51.57005}                 \n",
      "\n",
      "      Distance NewRatingPending  \\\n",
      "0  4613.888288            False   \n",
      "1  4617.965824            False   \n",
      "2  4619.656144            False   \n",
      "3  4620.421725            False   \n",
      "4  4620.437179            False   \n",
      "5  4625.565258            False   \n",
      "6  4626.200132            False   \n",
      "7  4632.276890            False   \n",
      "8  4633.934041            False   \n",
      "9  4636.552523            False   \n",
      "\n",
      "                                                meta  \\\n",
      "0  {'dataSource': None, 'extractDate': '0001-01-0...   \n",
      "1  {'dataSource': None, 'extractDate': '0001-01-0...   \n",
      "2  {'dataSource': None, 'extractDate': '0001-01-0...   \n",
      "3  {'dataSource': None, 'extractDate': '0001-01-0...   \n",
      "4  {'dataSource': None, 'extractDate': '0001-01-0...   \n",
      "5  {'dataSource': None, 'extractDate': '0001-01-0...   \n",
      "6  {'dataSource': None, 'extractDate': '0001-01-0...   \n",
      "7  {'dataSource': None, 'extractDate': '0001-01-0...   \n",
      "8  {'dataSource': None, 'extractDate': '0001-01-0...   \n",
      "9  {'dataSource': None, 'extractDate': '0001-01-0...   \n",
      "\n",
      "                                               links latitude longitude  \n",
      "0  [{'rel': 'self', 'href': 'https://api.ratings....     None      None  \n",
      "1  [{'rel': 'self', 'href': 'https://api.ratings....     None      None  \n",
      "2  [{'rel': 'self', 'href': 'https://api.ratings....     None      None  \n",
      "3  [{'rel': 'self', 'href': 'https://api.ratings....     None      None  \n",
      "4  [{'rel': 'self', 'href': 'https://api.ratings....     None      None  \n",
      "5  [{'rel': 'self', 'href': 'https://api.ratings....     None      None  \n",
      "6  [{'rel': 'self', 'href': 'https://api.ratings....     None      None  \n",
      "7  [{'rel': 'self', 'href': 'http://api.ratings.f...     None      None  \n",
      "8  [{'rel': 'self', 'href': 'http://api.ratings.f...     None      None  \n",
      "9  [{'rel': 'self', 'href': 'http://api.ratings.f...     None      None  \n",
      "\n",
      "[10 rows x 30 columns]\n"
     ]
    }
   ],
   "source": [
    "# Convert the result to a Pandas DataFrame\n",
    "df = pd.DataFrame(list(establishments.find(query)))\n",
    "\n",
    "# Display the number of rows in the DataFrame\n",
    "print(f\"Number of rows in DataFrame: {df.shape[0]}\")\n",
    "\n",
    "# Display the first 10 rows of the DataFrame\n",
    "print(df.head(10))\n",
    "\n"
   ]
  },
  {
   "cell_type": "markdown",
   "id": "0ef4395a",
   "metadata": {},
   "source": [
    "### 2. Which establishments in London have a `RatingValue` greater than or equal to 4?"
   ]
  },
  {
   "cell_type": "code",
   "execution_count": 9,
   "id": "93c63829",
   "metadata": {},
   "outputs": [
    {
     "name": "stdout",
     "output_type": "stream",
     "text": [
      "Number of documents with London as Local Authority and RatingValue >= 4: 0\n",
      "None\n"
     ]
    }
   ],
   "source": [
    "# Find the establishments with London as the Local Authority and has a RatingValue greater than or equal to 4\n",
    "query = {'LocalAuthorityName': 'London', 'RatingValue': {'$gte': '4'}}\n",
    "\n",
    "# Use count_documents to display the number of documents in the result\n",
    "num_documents = establishments.count_documents(query)\n",
    "print(f\"Number of documents with London as Local Authority and RatingValue >= 4: {num_documents}\")\n",
    "\n",
    "# Display the first document in the results using pprint\n",
    "first_document = establishments.find_one(query)\n",
    "pprint(first_document)\n"
   ]
  },
  {
   "cell_type": "code",
   "execution_count": 10,
   "id": "07e24ccb",
   "metadata": {},
   "outputs": [
    {
     "name": "stdout",
     "output_type": "stream",
     "text": [
      "Number of rows in DataFrame: 0\n",
      "Empty DataFrame\n",
      "Columns: []\n",
      "Index: []\n"
     ]
    }
   ],
   "source": [
    "# Convert the result to a Pandas DataFrame\n",
    "df = pd.DataFrame(list(establishments.find(query)))\n",
    "\n",
    "# Display the number of rows in the DataFrame\n",
    "print(f\"Number of rows in DataFrame: {df.shape[0]}\")\n",
    "\n",
    "# Display the first 10 rows of the DataFrame\n",
    "print(df.head(10))"
   ]
  },
  {
   "attachments": {},
   "cell_type": "markdown",
   "id": "4e570caf",
   "metadata": {},
   "source": [
    "### 3. What are the top 5 establishments with a `RatingValue` rating value of 5, sorted by lowest hygiene score, nearest to the new restaurant added, \"Penang Flavours\"?"
   ]
  },
  {
   "cell_type": "code",
   "execution_count": null,
   "id": "7f599f3d",
   "metadata": {},
   "outputs": [],
   "source": [
    "# Search within 0.01 degree on either side of the latitude and longitude.\n",
    "# Rating value must equal 5\n",
    "# Sort by hygiene score\n",
    "\n",
    "degree_search = 0.01\n",
    "latitude =\n",
    "longitude =\n",
    "\n",
    "query =\n",
    "sort =\n",
    "limit =\n",
    "\n",
    "# Print the results\n"
   ]
  },
  {
   "cell_type": "code",
   "execution_count": null,
   "id": "a6ad16f7",
   "metadata": {},
   "outputs": [],
   "source": [
    "# Convert result to Pandas DataFrame\n"
   ]
  },
  {
   "cell_type": "markdown",
   "id": "67281254",
   "metadata": {},
   "source": [
    "### 4. How many establishments in each Local Authority area have a hygiene score of 0?"
   ]
  },
  {
   "cell_type": "code",
   "execution_count": null,
   "id": "4eeb227e",
   "metadata": {},
   "outputs": [],
   "source": [
    "# Create a pipeline that:\n",
    "# 1. Matches establishments with a hygiene score of 0\n",
    "# 2. Groups the matches by Local Authority\n",
    "# 3. Sorts the matches from highest to lowest\n",
    "\n",
    "# Print the number of documents in the result\n",
    "\n",
    "# Print the first 10 results\n"
   ]
  },
  {
   "cell_type": "code",
   "execution_count": null,
   "id": "d8aab364",
   "metadata": {},
   "outputs": [],
   "source": [
    "# Convert the result to a Pandas DataFrame\n",
    "\n",
    "# Display the number of rows in the DataFrame\n",
    "\n",
    "# Display the first 10 rows of the DataFrame\n"
   ]
  }
 ],
 "metadata": {
  "kernelspec": {
   "display_name": "Python 3 (ipykernel)",
   "language": "python",
   "name": "python3"
  },
  "language_info": {
   "codemirror_mode": {
    "name": "ipython",
    "version": 3
   },
   "file_extension": ".py",
   "mimetype": "text/x-python",
   "name": "python",
   "nbconvert_exporter": "python",
   "pygments_lexer": "ipython3",
   "version": "3.11.7"
  }
 },
 "nbformat": 4,
 "nbformat_minor": 5
}
